{
  "nbformat": 4,
  "nbformat_minor": 0,
  "metadata": {
    "colab": {
      "provenance": []
    },
    "kernelspec": {
      "name": "python3",
      "display_name": "Python 3"
    },
    "language_info": {
      "name": "python"
    }
  },
  "cells": [
    {
      "cell_type": "code",
      "execution_count": 1,
      "metadata": {
        "colab": {
          "base_uri": "https://localhost:8080/"
        },
        "id": "E4LviHRpnm33",
        "outputId": "5d847edb-338f-4f77-da77-6c39310c35b4"
      },
      "outputs": [
        {
          "output_type": "stream",
          "name": "stdout",
          "text": [
            "Requirement already satisfied: nltk in /usr/local/lib/python3.11/dist-packages (3.9.1)\n",
            "Requirement already satisfied: scikit-learn in /usr/local/lib/python3.11/dist-packages (1.6.1)\n",
            "Requirement already satisfied: click in /usr/local/lib/python3.11/dist-packages (from nltk) (8.2.1)\n",
            "Requirement already satisfied: joblib in /usr/local/lib/python3.11/dist-packages (from nltk) (1.5.1)\n",
            "Requirement already satisfied: regex>=2021.8.3 in /usr/local/lib/python3.11/dist-packages (from nltk) (2024.11.6)\n",
            "Requirement already satisfied: tqdm in /usr/local/lib/python3.11/dist-packages (from nltk) (4.67.1)\n",
            "Requirement already satisfied: numpy>=1.19.5 in /usr/local/lib/python3.11/dist-packages (from scikit-learn) (2.0.2)\n",
            "Requirement already satisfied: scipy>=1.6.0 in /usr/local/lib/python3.11/dist-packages (from scikit-learn) (1.15.3)\n",
            "Requirement already satisfied: threadpoolctl>=3.1.0 in /usr/local/lib/python3.11/dist-packages (from scikit-learn) (3.6.0)\n"
          ]
        }
      ],
      "source": [
        "!pip install nltk scikit-learn"
      ]
    },
    {
      "cell_type": "code",
      "source": [
        "import re\n",
        "import nltk\n",
        "from sklearn.feature_extraction.text import TfidfVectorizer\n",
        "from sklearn.metrics.pairwise import cosine_similarity\n",
        "\n",
        "# Download stopwords\n",
        "nltk.download('stopwords')\n",
        "from nltk.corpus import stopwords\n",
        "\n",
        "def clean_text(text):\n",
        "    text = re.sub(r'[^a-zA-Z0-9\\s]', '', text)\n",
        "    tokens = text.lower().split()\n",
        "    tokens = [w for w in tokens if w not in stopwords.words('english')]\n",
        "    return ' '.join(tokens)\n",
        "\n",
        "def extract_features(resume_texts, job_desc_text):\n",
        "    corpus = resume_texts + [job_desc_text]\n",
        "    vectorizer = TfidfVectorizer()\n",
        "    vectors = vectorizer.fit_transform(corpus)\n",
        "    resume_vecs = vectors[:-1]\n",
        "    job_vec = vectors[-1]\n",
        "    return resume_vecs, job_vec\n",
        "\n",
        "def rank_resumes(resume_vecs, job_vec):\n",
        "    scores = cosine_similarity(resume_vecs, job_vec)\n",
        "    return scores"
      ],
      "metadata": {
        "colab": {
          "base_uri": "https://localhost:8080/"
        },
        "id": "O1E41PkEnxKu",
        "outputId": "fc1891a5-99de-4b46-9014-46d6666aa424"
      },
      "execution_count": 2,
      "outputs": [
        {
          "output_type": "stream",
          "name": "stderr",
          "text": [
            "[nltk_data] Downloading package stopwords to /root/nltk_data...\n",
            "[nltk_data]   Unzipping corpora/stopwords.zip.\n"
          ]
        }
      ]
    },
    {
      "cell_type": "code",
      "source": [
        "# List of sample resume texts (paste your real resumes here)\n",
        "resumes = [\n",
        "    \"Experienced data scientist skilled in Python, machine learning, and statistics.\",\n",
        "    \"Software engineer with expertise in C++, Java, and system design.\",\n",
        "    \"Python developer with experience in machine learning, deep learning, and data analysis.\"\n",
        "]\n",
        "\n",
        "# Sample job description (paste your real job description here)\n",
        "job_description = \"\"\"\n",
        "We are looking for a Python developer with experience in machine learning and data analysis.\n",
        "Familiarity with deep learning and statistics is a plus.\n",
        "\"\"\"\n",
        "\n",
        "# Preprocess\n",
        "resumes_clean = [clean_text(r) for r in resumes]\n",
        "job_desc_clean = clean_text(job_description)\n",
        "\n",
        "# Feature Extraction\n",
        "resume_vecs, job_vec = extract_features(resumes_clean, job_desc_clean)\n",
        "\n",
        "# Score resumes\n",
        "scores = rank_resumes(resume_vecs, job_vec)\n",
        "\n",
        "# Show ranking\n",
        "import numpy as np\n",
        "ranking = np.argsort(scores[:,0])[::-1]\n",
        "for idx in ranking:\n",
        "    print(f\"Resume {idx+1}: Score = {scores[idx][0]:.2f}\\nText: {resumes[idx]}\\n\")"
      ],
      "metadata": {
        "colab": {
          "base_uri": "https://localhost:8080/"
        },
        "id": "26t6RMHBn7ts",
        "outputId": "6e382bae-6097-4b10-af48-60c02f5db54f"
      },
      "execution_count": 3,
      "outputs": [
        {
          "output_type": "stream",
          "name": "stdout",
          "text": [
            "Resume 3: Score = 0.77\n",
            "Text: Python developer with experience in machine learning, deep learning, and data analysis.\n",
            "\n",
            "Resume 1: Score = 0.39\n",
            "Text: Experienced data scientist skilled in Python, machine learning, and statistics.\n",
            "\n",
            "Resume 2: Score = 0.00\n",
            "Text: Software engineer with expertise in C++, Java, and system design.\n",
            "\n"
          ]
        }
      ]
    },
    {
      "cell_type": "code",
      "source": [],
      "metadata": {
        "id": "cPBiTFm0oAHg"
      },
      "execution_count": null,
      "outputs": []
    }
  ]
}